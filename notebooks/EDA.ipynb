{
 "cells": [
  {
   "cell_type": "code",
   "execution_count": 1,
   "id": "a7b289e7-9552-4071-8859-70e410de64b6",
   "metadata": {},
   "outputs": [
    {
     "data": {
      "text/html": [
       "<div>\n",
       "<style scoped>\n",
       "    .dataframe tbody tr th:only-of-type {\n",
       "        vertical-align: middle;\n",
       "    }\n",
       "\n",
       "    .dataframe tbody tr th {\n",
       "        vertical-align: top;\n",
       "    }\n",
       "\n",
       "    .dataframe thead th {\n",
       "        text-align: right;\n",
       "    }\n",
       "</style>\n",
       "<table border=\"1\" class=\"dataframe\">\n",
       "  <thead>\n",
       "    <tr style=\"text-align: right;\">\n",
       "      <th></th>\n",
       "      <th>phish_id</th>\n",
       "      <th>url</th>\n",
       "      <th>phish_detail_url</th>\n",
       "      <th>submission_time</th>\n",
       "      <th>verified</th>\n",
       "      <th>verification_time</th>\n",
       "      <th>online</th>\n",
       "      <th>target</th>\n",
       "    </tr>\n",
       "  </thead>\n",
       "  <tbody>\n",
       "    <tr>\n",
       "      <th>0</th>\n",
       "      <td>9209807</td>\n",
       "      <td>https://alert-965.dataforges.cc/8f2c96c83-18eb...</td>\n",
       "      <td>http://www.phishtank.com/phish_detail.php?phis...</td>\n",
       "      <td>2025-09-12T14:14:37+00:00</td>\n",
       "      <td>yes</td>\n",
       "      <td>2025-09-12T14:21:46+00:00</td>\n",
       "      <td>yes</td>\n",
       "      <td>Microsoft</td>\n",
       "    </tr>\n",
       "    <tr>\n",
       "      <th>1</th>\n",
       "      <td>9209806</td>\n",
       "      <td>https://socket.brainclickads.com/node_modules/...</td>\n",
       "      <td>http://www.phishtank.com/phish_detail.php?phis...</td>\n",
       "      <td>2025-09-12T14:14:05+00:00</td>\n",
       "      <td>yes</td>\n",
       "      <td>2025-09-12T14:21:46+00:00</td>\n",
       "      <td>yes</td>\n",
       "      <td>Other</td>\n",
       "    </tr>\n",
       "    <tr>\n",
       "      <th>2</th>\n",
       "      <td>9209805</td>\n",
       "      <td>https://zmba.netlify.app</td>\n",
       "      <td>http://www.phishtank.com/phish_detail.php?phis...</td>\n",
       "      <td>2025-09-12T14:13:56+00:00</td>\n",
       "      <td>yes</td>\n",
       "      <td>2025-09-12T14:21:46+00:00</td>\n",
       "      <td>yes</td>\n",
       "      <td>Other</td>\n",
       "    </tr>\n",
       "    <tr>\n",
       "      <th>3</th>\n",
       "      <td>9209793</td>\n",
       "      <td>http://usa-trezor.com</td>\n",
       "      <td>http://www.phishtank.com/phish_detail.php?phis...</td>\n",
       "      <td>2025-09-12T14:01:50+00:00</td>\n",
       "      <td>yes</td>\n",
       "      <td>2025-09-12T14:12:30+00:00</td>\n",
       "      <td>yes</td>\n",
       "      <td>Other</td>\n",
       "    </tr>\n",
       "    <tr>\n",
       "      <th>4</th>\n",
       "      <td>9209794</td>\n",
       "      <td>https://usa-trezor.com/</td>\n",
       "      <td>http://www.phishtank.com/phish_detail.php?phis...</td>\n",
       "      <td>2025-09-12T14:01:50+00:00</td>\n",
       "      <td>yes</td>\n",
       "      <td>2025-09-12T14:12:30+00:00</td>\n",
       "      <td>yes</td>\n",
       "      <td>Other</td>\n",
       "    </tr>\n",
       "  </tbody>\n",
       "</table>\n",
       "</div>"
      ],
      "text/plain": [
       "   phish_id                                                url  \\\n",
       "0   9209807  https://alert-965.dataforges.cc/8f2c96c83-18eb...   \n",
       "1   9209806  https://socket.brainclickads.com/node_modules/...   \n",
       "2   9209805                           https://zmba.netlify.app   \n",
       "3   9209793                              http://usa-trezor.com   \n",
       "4   9209794                            https://usa-trezor.com/   \n",
       "\n",
       "                                    phish_detail_url  \\\n",
       "0  http://www.phishtank.com/phish_detail.php?phis...   \n",
       "1  http://www.phishtank.com/phish_detail.php?phis...   \n",
       "2  http://www.phishtank.com/phish_detail.php?phis...   \n",
       "3  http://www.phishtank.com/phish_detail.php?phis...   \n",
       "4  http://www.phishtank.com/phish_detail.php?phis...   \n",
       "\n",
       "             submission_time verified          verification_time online  \\\n",
       "0  2025-09-12T14:14:37+00:00      yes  2025-09-12T14:21:46+00:00    yes   \n",
       "1  2025-09-12T14:14:05+00:00      yes  2025-09-12T14:21:46+00:00    yes   \n",
       "2  2025-09-12T14:13:56+00:00      yes  2025-09-12T14:21:46+00:00    yes   \n",
       "3  2025-09-12T14:01:50+00:00      yes  2025-09-12T14:12:30+00:00    yes   \n",
       "4  2025-09-12T14:01:50+00:00      yes  2025-09-12T14:12:30+00:00    yes   \n",
       "\n",
       "      target  \n",
       "0  Microsoft  \n",
       "1      Other  \n",
       "2      Other  \n",
       "3      Other  \n",
       "4      Other  "
      ]
     },
     "metadata": {},
     "output_type": "display_data"
    },
    {
     "name": "stdout",
     "output_type": "stream",
     "text": [
      "\n",
      "--- Info dataset ---\n",
      "<class 'pandas.core.frame.DataFrame'>\n",
      "RangeIndex: 51160 entries, 0 to 51159\n",
      "Data columns (total 8 columns):\n",
      " #   Column             Non-Null Count  Dtype \n",
      "---  ------             --------------  ----- \n",
      " 0   phish_id           51160 non-null  int64 \n",
      " 1   url                51160 non-null  object\n",
      " 2   phish_detail_url   51160 non-null  object\n",
      " 3   submission_time    51160 non-null  object\n",
      " 4   verified           51160 non-null  object\n",
      " 5   verification_time  51160 non-null  object\n",
      " 6   online             51160 non-null  object\n",
      " 7   target             51160 non-null  object\n",
      "dtypes: int64(1), object(7)\n",
      "memory usage: 3.1+ MB\n",
      "None\n",
      "\n",
      "--- Describe dataset ---\n",
      "           phish_id\n",
      "count  5.116000e+04\n",
      "mean   8.736166e+06\n",
      "std    4.096903e+05\n",
      "min    1.123978e+06\n",
      "25%    8.464578e+06\n",
      "50%    8.755280e+06\n",
      "75%    9.121692e+06\n",
      "max    9.209807e+06\n"
     ]
    }
   ],
   "source": [
    "# EDA.ipynb\n",
    "\n",
    "import pandas as pd\n",
    "import matplotlib.pyplot as plt\n",
    "import seaborn as sns\n",
    "\n",
    "# Đọc dữ liệu\n",
    "df = pd.read_csv(\"../data/raw/phishtank.csv\")\n",
    "\n",
    "# Xem 5 dòng đầu\n",
    "display(df.head())\n",
    "\n",
    "# Thông tin dataset\n",
    "print(\"\\n--- Info dataset ---\")\n",
    "print(df.info())\n",
    "\n",
    "# Kiểm tra phân bố nhãn\n",
    "if \"label\" in df.columns:\n",
    "    print(df[\"label\"].value_counts())\n",
    "    sns.countplot(x=\"label\", data=df)\n",
    "    plt.show()\n",
    "\n",
    "# Thống kê cơ bản\n",
    "print(\"\\n--- Describe dataset ---\")\n",
    "print(df.describe())\n"
   ]
  },
  {
   "cell_type": "code",
   "execution_count": 2,
   "id": "1032329a-9726-475b-9722-c9afcde06cc6",
   "metadata": {},
   "outputs": [
    {
     "data": {
      "text/plain": [
       "phish_id             0\n",
       "url                  0\n",
       "phish_detail_url     0\n",
       "submission_time      0\n",
       "verified             0\n",
       "verification_time    0\n",
       "online               0\n",
       "target               0\n",
       "dtype: int64"
      ]
     },
     "execution_count": 2,
     "metadata": {},
     "output_type": "execute_result"
    }
   ],
   "source": [
    "df.isnull().sum()\n",
    "\n"
   ]
  },
  {
   "cell_type": "code",
   "execution_count": 3,
   "id": "cfd8cde4-5a12-44af-89ad-e22b9b83283d",
   "metadata": {},
   "outputs": [
    {
     "data": {
      "image/png": "[encoded data removed]",
      "text/plain": [
       "<Figure size 640x480 with 1 Axes>"
      ]
     },
     "metadata": {},
     "output_type": "display_data"
    }
   ],
   "source": [
    "import seaborn as sns\n",
    "import matplotlib.pyplot as plt\n",
    "\n",
    "sns.countplot(x=\"target\", data=df)\n",
    "plt.title(\"Phân bố nhãn (phishing vs. legitimate)\")\n",
    "plt.show()\n"
   ]
  },
  {
   "cell_type": "code",
   "execution_count": 4,
   "id": "10121eb6-cc6b-47ac-abef-204c10cc2a2d",
   "metadata": {},
   "outputs": [
    {
     "name": "stdout",
     "output_type": "stream",
     "text": [
      "url : 51148\n",
      "verified : 1\n",
      "online : 1\n",
      "target : 99\n"
     ]
    }
   ],
   "source": [
    "for col in [\"url\", \"verified\", \"online\", \"target\"]:\n",
    "    print(col, \":\", df[col].nunique())\n"
   ]
  },
  {
   "cell_type": "code",
   "execution_count": 5,
   "id": "e5511074-b67a-4f45-aa54-8494eb5b737a",
   "metadata": {},
   "outputs": [
    {
     "data": {
      "text/plain": [
       "0   2025-09-12 14:14:37+00:00\n",
       "1   2025-09-12 14:14:05+00:00\n",
       "2   2025-09-12 14:13:56+00:00\n",
       "3   2025-09-12 14:01:50+00:00\n",
       "4   2025-09-12 14:01:50+00:00\n",
       "Name: submission_time, dtype: datetime64[ns, UTC]"
      ]
     },
     "execution_count": 5,
     "metadata": {},
     "output_type": "execute_result"
    }
   ],
   "source": [
    "df[\"submission_time\"] = pd.to_datetime(df[\"submission_time\"], errors=\"coerce\")\n",
    "df[\"submission_time\"].head()\n"
   ]
  },
  {
   "cell_type": "code",
   "execution_count": 6,
   "id": "7398959a-9128-4153-ba1c-5d36cdf3b9c1",
   "metadata": {},
   "outputs": [
    {
     "data": {
      "image/png": "[encoded data removed]",
      "text/plain": [
       "<Figure size 1200x400 with 1 Axes>"
      ]
     },
     "metadata": {},
     "output_type": "display_data"
    }
   ],
   "source": [
    "df[\"date\"] = df[\"submission_time\"].dt.date\n",
    "df[\"date\"].value_counts().sort_index().plot(figsize=(12,4))\n",
    "plt.title(\"Số lượng phishing theo thời gian\")\n",
    "plt.xlabel(\"Ngày\")\n",
    "plt.ylabel(\"Số lượng\")\n",
    "plt.show()\n"
   ]
  },
  {
   "cell_type": "code",
   "execution_count": null,
   "id": "0174b6e4-5055-4742-b692-005bc6d11a95",
   "metadata": {},
   "outputs": [],
   "source": []
  }
 ],
 "metadata": {
  "kernelspec": {
   "display_name": "Python 3 (ipykernel)",
   "language": "python",
   "name": "python3"
  },
  "language_info": {
   "codemirror_mode": {
    "name": "ipython",
    "version": 3
   },
   "file_extension": ".py",
   "mimetype": "text/x-python",
   "name": "python",
   "nbconvert_exporter": "python",
   "pygments_lexer": "ipython3",
   "version": "3.13.1"
  }
 },
 "nbformat": 4,
 "nbformat_minor": 5
}
